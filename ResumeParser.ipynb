{
  "nbformat": 4,
  "nbformat_minor": 0,
  "metadata": {
    "colab": {
      "provenance": []
    },
    "kernelspec": {
      "name": "python3",
      "display_name": "Python 3"
    },
    "language_info": {
      "name": "python"
    }
  },
  "cells": [
    {
      "cell_type": "code",
      "source": [
        "pip install pdfplumber"
      ],
      "metadata": {
        "colab": {
          "base_uri": "https://localhost:8080/"
        },
        "id": "aULIaA6FbkPi",
        "outputId": "701c7370-9ee0-4b5c-a507-e32dca4d5ee3"
      },
      "execution_count": null,
      "outputs": [
        {
          "output_type": "stream",
          "name": "stdout",
          "text": [
            "Collecting pdfplumber\n",
            "  Downloading pdfplumber-0.10.2-py3-none-any.whl (47 kB)\n",
            "\u001b[?25l     \u001b[90m━━━━━━━━━━━━━━━━━━━━━━━━━━━━━━━━━━━━━━━━\u001b[0m \u001b[32m0.0/47.5 kB\u001b[0m \u001b[31m?\u001b[0m eta \u001b[36m-:--:--\u001b[0m\r\u001b[2K     \u001b[90m━━━━━━━━━━━━━━━━━━━━━━━━━━━━━━━━━━━━━━━━\u001b[0m \u001b[32m47.5/47.5 kB\u001b[0m \u001b[31m1.6 MB/s\u001b[0m eta \u001b[36m0:00:00\u001b[0m\n",
            "\u001b[?25hCollecting pdfminer.six==20221105 (from pdfplumber)\n",
            "  Downloading pdfminer.six-20221105-py3-none-any.whl (5.6 MB)\n",
            "\u001b[2K     \u001b[90m━━━━━━━━━━━━━━━━━━━━━━━━━━━━━━━━━━━━━━━━\u001b[0m \u001b[32m5.6/5.6 MB\u001b[0m \u001b[31m54.6 MB/s\u001b[0m eta \u001b[36m0:00:00\u001b[0m\n",
            "\u001b[?25hRequirement already satisfied: Pillow>=9.1 in /usr/local/lib/python3.10/dist-packages (from pdfplumber) (9.4.0)\n",
            "Collecting pypdfium2>=4.18.0 (from pdfplumber)\n",
            "  Downloading pypdfium2-4.18.0-py3-none-manylinux_2_17_x86_64.whl (2.9 MB)\n",
            "\u001b[2K     \u001b[90m━━━━━━━━━━━━━━━━━━━━━━━━━━━━━━━━━━━━━━━━\u001b[0m \u001b[32m2.9/2.9 MB\u001b[0m \u001b[31m91.6 MB/s\u001b[0m eta \u001b[36m0:00:00\u001b[0m\n",
            "\u001b[?25hRequirement already satisfied: charset-normalizer>=2.0.0 in /usr/local/lib/python3.10/dist-packages (from pdfminer.six==20221105->pdfplumber) (3.2.0)\n",
            "Requirement already satisfied: cryptography>=36.0.0 in /usr/local/lib/python3.10/dist-packages (from pdfminer.six==20221105->pdfplumber) (41.0.3)\n",
            "Requirement already satisfied: cffi>=1.12 in /usr/local/lib/python3.10/dist-packages (from cryptography>=36.0.0->pdfminer.six==20221105->pdfplumber) (1.15.1)\n",
            "Requirement already satisfied: pycparser in /usr/local/lib/python3.10/dist-packages (from cffi>=1.12->cryptography>=36.0.0->pdfminer.six==20221105->pdfplumber) (2.21)\n",
            "Installing collected packages: pypdfium2, pdfminer.six, pdfplumber\n",
            "Successfully installed pdfminer.six-20221105 pdfplumber-0.10.2 pypdfium2-4.18.0\n"
          ]
        }
      ]
    },
    {
      "cell_type": "code",
      "execution_count": null,
      "metadata": {
        "colab": {
          "base_uri": "https://localhost:8080/"
        },
        "id": "SWkjw7RtbK5L",
        "outputId": "59735327-fd30-4d61-cd65-519cfb685cc6"
      },
      "outputs": [
        {
          "output_type": "stream",
          "name": "stderr",
          "text": [
            "[nltk_data] Downloading package punkt to /root/nltk_data...\n",
            "[nltk_data]   Unzipping tokenizers/punkt.zip.\n",
            "[nltk_data] Downloading package stopwords to /root/nltk_data...\n",
            "[nltk_data]   Unzipping corpora/stopwords.zip.\n"
          ]
        },
        {
          "output_type": "execute_result",
          "data": {
            "text/plain": [
              "True"
            ]
          },
          "metadata": {},
          "execution_count": 2
        }
      ],
      "source": [
        "\n",
        "import nltk\n",
        "import re\n",
        "import pdfplumber\n",
        "nltk.download(\"punkt\")\n",
        "nltk.download('stopwords')"
      ]
    },
    {
      "cell_type": "code",
      "source": [
        "from nltk.corpus import stopwords\n",
        "import pdfplumber\n",
        "import nltk\n",
        "import re\n",
        "\n",
        "# Sample job description with specific keywords\n",
        "job_description = \"\"\"\n",
        "    We are looking for a software developer proficient in Python, JavaScript, and web development.\n",
        "    Experience with data analysis and machine learning is a plus.\n",
        "    The ideal candidate should have strong problem-solving skills and the ability to work in a team.\n",
        "\"\"\"\n",
        "\n",
        "# Function to extract text from a PDF file\n",
        "def extract_text_from_pdf(pdf_path):\n",
        "    text = \"\"\n",
        "    with pdfplumber.open(pdf_path) as pdf:\n",
        "        for page in pdf.pages:\n",
        "            text += page.extract_text()\n",
        "    return text\n",
        "\n",
        "# Path to the candidate's PDF resume\n",
        "pdf_path = \"/content/sample_data/Khushi's Resume.pdf\"\n",
        "candidate_resumes = extract_text_from_pdf(pdf_path)\n",
        "\n",
        "# Find the starting index of \"Skills:\"\n",
        "skills_start = candidate_resumes.find(\"Skills:\")\n",
        "\n",
        "# Extract the substring from the beginning until before \"Skills:\"\n",
        "first_data = candidate_resumes[:skills_start].strip()\n",
        "\n",
        "# Extract the substring from the \"Skills:\" section to the end\n",
        "skills = candidate_resumes[skills_start + len(\"Skills:\"):].strip()\n",
        "\n",
        "# Function to preprocess text (lowercasing, tokenizing, removing punctuation and stopwords)\n",
        "def preprocess_text(text):\n",
        "    text = text.lower()\n",
        "    words = nltk.word_tokenize(text)\n",
        "    stop_words = set(stopwords.words(\"english\"))\n",
        "    words = [word for word in words if word.isalpha() and word not in stop_words]\n",
        "    return words\n",
        "\n",
        "# Function to extract email address from text using regex\n",
        "def extract_email(text):\n",
        "    email_re = r\"\\b[A-Za-z0-9._%+-]+@[A-Za-z0-9.-]+\\.[A-Z|a-z]{2,}\\b\"\n",
        "    emails = re.findall(email_re, text)\n",
        "    return emails[0] if emails else \"\"\n",
        "\n",
        "# Function to extract phone number from text using regex\n",
        "def extract_phone(text):\n",
        "    phone_regex = r\"\\b(?:\\+\\d{1,2}\\s*)?\\(?\\d{3}\\)?[-.\\s]?\\d{3}[-.\\s]?\\d{4}\\b\"\n",
        "    phones = re.findall(phone_regex, text)\n",
        "    return phones[0] if phones else \"\"\n",
        "\n",
        "# Function to parse resume data\n",
        "def parse_resume(first_data):\n",
        "    words = preprocess_text(first_data)\n",
        "    name = \" \".join(words[:2])\n",
        "    email = extract_email(first_data)\n",
        "    phone = extract_phone(first_data)\n",
        "    resume_data = {\n",
        "        \"Name\": name,\n",
        "        \"Email\": email,\n",
        "        \"Phone\": phone\n",
        "    }\n",
        "    return resume_data\n",
        "\n",
        "# Function to count keyword matches between text and keywords\n",
        "def count_keyword_matches(text, keywords):\n",
        "    text_words = set(preprocess_text(text))\n",
        "    keyword_words = set(preprocess_text(keywords))\n",
        "    return len(text_words.intersection(keyword_words))\n",
        "\n",
        "# Function to find the keyword matches\n",
        "def keyword_matches(job_description, skills):\n",
        "    matches = count_keyword_matches(skills, job_description)\n",
        "    return matches\n",
        "\n",
        "if __name__ == \"__main__\":\n",
        "    # Find the keyword matches\n",
        "    keyword_no = keyword_matches(job_description, skills)\n",
        "    print(f\"Candidate has {keyword_no} keyword matches.\")\n",
        "\n",
        "    # Parse resume data\n",
        "    parsed_resume = parse_resume(first_data)\n",
        "    print(\"Parsed Resume \\n\")\n",
        "    print(parsed_resume)\n"
      ],
      "metadata": {
        "colab": {
          "base_uri": "https://localhost:8080/"
        },
        "id": "fqFMj_o4bLve",
        "outputId": "2262bbdf-3422-4e29-e3d7-3194c78f6294"
      },
      "execution_count": null,
      "outputs": [
        {
          "output_type": "stream",
          "name": "stdout",
          "text": [
            "Candidate has 4 keyword matches.\n",
            "Parsed Resume \n",
            "\n",
            "{'Name': 'khushi kaur', 'Email': 'anandkhushi05@gmail.com', 'Phone': '6377440955'}\n"
          ]
        }
      ]
    },
    {
      "cell_type": "code",
      "source": [],
      "metadata": {
        "id": "43M46W6dbVZ0"
      },
      "execution_count": null,
      "outputs": []
    }
  ]
}